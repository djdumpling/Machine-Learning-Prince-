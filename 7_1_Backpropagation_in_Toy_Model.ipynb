{
  "nbformat": 4,
  "nbformat_minor": 0,
  "metadata": {
    "colab": {
      "provenance": [],
      "authorship_tag": "ABX9TyP0X+IhlwixLhGOEwnZIgH2",
      "include_colab_link": true
    },
    "kernelspec": {
      "name": "python3",
      "display_name": "Python 3"
    },
    "language_info": {
      "name": "python"
    }
  },
  "cells": [
    {
      "cell_type": "markdown",
      "metadata": {
        "id": "view-in-github",
        "colab_type": "text"
      },
      "source": [
        "<a href=\"https://colab.research.google.com/github/djdumpling/Machine-Learning-Prince-/blob/main/7_1_Backpropagation_in_Toy_Model.ipynb\" target=\"_parent\"><img src=\"https://colab.research.google.com/assets/colab-badge.svg\" alt=\"Open In Colab\"/></a>"
      ]
    },
    {
      "cell_type": "code",
      "execution_count": null,
      "metadata": {
        "id": "f6X4oQZ2SrRb"
      },
      "outputs": [],
      "source": [
        "import numpy as np"
      ]
    },
    {
      "cell_type": "code",
      "source": [
        "def fn(x, beta0, beta1, beta2, beta3, omega0, omega1, omega2, omega3):\n",
        "  return beta3+omega3 * np.cos(beta2 + omega2 * np.exp(beta1 + omega1 * np.sin(beta0 + omega0 * x)))\n",
        "\n",
        "def loss(x, y, beta0, beta1, beta2, beta3, omega0, omega1, omega2, omega3):\n",
        "  diff = fn(x, beta0, beta1, beta2, beta3, omega0, omega1, omega2, omega3) - y\n",
        "  return diff * diff"
      ],
      "metadata": {
        "id": "Tz4iZsZeTbk7"
      },
      "execution_count": null,
      "outputs": []
    },
    {
      "cell_type": "code",
      "source": [
        "beta0 = 1.0; beta1 = 2.0; beta2 = -3.0; beta3 = 0.4\n",
        "omega0 = 0.1; omega1 = -0.4; omega2 = 2.0; omega3 = 3.0\n",
        "x = 2.3; y = 2.0\n",
        "l_i_func = loss(x,y,beta0,beta1,beta2,beta3,omega0,omega1,omega2,omega3)\n",
        "print('l_i=%3.3f'%l_i_func)"
      ],
      "metadata": {
        "colab": {
          "base_uri": "https://localhost:8080/"
        },
        "id": "lUCWk-ZBTfcO",
        "outputId": "49f87146-21c4-4e05-a2b3-907941c6230b"
      },
      "execution_count": null,
      "outputs": [
        {
          "output_type": "stream",
          "name": "stdout",
          "text": [
            "l_i=0.139\n"
          ]
        }
      ]
    },
    {
      "cell_type": "code",
      "source": [
        "dldbeta3_func = 2 * (beta3 +omega3 * np.cos(beta2 + omega2 * np.exp(beta1+omega1 * np.sin(beta0+omega0 * x)))-y)\n",
        "dldomega0_func = -2 *(beta3 +omega3 * np.cos(beta2 + omega2 * np.exp(beta1+omega1 * np.sin(beta0+omega0 * x)))-y) * \\\n",
        "              omega1 * omega2 * omega3 * x * np.cos(beta0 + omega0 * x) * np.exp(beta1 +omega1 * np.sin(beta0 + omega0 * x)) *\\\n",
        "              np.sin(beta2 + omega2 * np.exp(beta1+ omega1* np.sin(beta0+omega0 * x)))"
      ],
      "metadata": {
        "id": "XoiZA_9DUQO6"
      },
      "execution_count": null,
      "outputs": []
    },
    {
      "cell_type": "code",
      "source": [
        "dldomega0_fd = (loss(x,y,beta0,beta1,beta2,beta3,omega0+0.00001,omega1,omega2,omega3)-loss(x,y,beta0,beta1,beta2,beta3,omega0,omega1,omega2,omega3))/0.00001\n",
        "\n",
        "print('dydomega0: Function value = %3.3f, Finite difference value = %3.3f'%(dldomega0_func,dldomega0_fd))"
      ],
      "metadata": {
        "colab": {
          "base_uri": "https://localhost:8080/"
        },
        "id": "MHR0dAUYVuo0",
        "outputId": "2e882089-b773-4028-cc73-987c8973d228"
      },
      "execution_count": null,
      "outputs": [
        {
          "output_type": "stream",
          "name": "stdout",
          "text": [
            "dydomega0: Function value = 5.246, Finite difference value = 5.246\n"
          ]
        }
      ]
    },
    {
      "cell_type": "markdown",
      "source": [
        "# Forward Pass"
      ],
      "metadata": {
        "id": "qa-ygoJOV7Q3"
      }
    },
    {
      "cell_type": "code",
      "source": [
        "f0 = beta0 + omega0 * x\n",
        "h1 = np.sin(f0)\n",
        "f1 = beta1 + omega1 * h1\n",
        "h2 = np.exp(f1)\n",
        "f2 = beta2 + omega2 * h2\n",
        "h3 = np.cos(f2)\n",
        "f3 = beta3 + omega3 * h3\n",
        "l_i = (f3-y)**2"
      ],
      "metadata": {
        "id": "PJEvXPBFV8XQ"
      },
      "execution_count": null,
      "outputs": []
    },
    {
      "cell_type": "code",
      "source": [
        "print(\"f0: true value = %3.3f, your value = %3.3f\"%(1.230, f0))\n",
        "print(\"h1: true value = %3.3f, your value = %3.3f\"%(0.942, h1))\n",
        "print(\"f1: true value = %3.3f, your value = %3.3f\"%(1.623, f1))\n",
        "print(\"h2: true value = %3.3f, your value = %3.3f\"%(5.068, h2))\n",
        "print(\"f2: true value = %3.3f, your value = %3.3f\"%(7.137, f2))\n",
        "print(\"h3: true value = %3.3f, your value = %3.3f\"%(0.657, h3))\n",
        "print(\"f3: true value = %3.3f, your value = %3.3f\"%(2.372, f3))\n",
        "print(\"l_i original = %3.3f, l_i from forward pass = %3.3f\"%(l_i_func, l_i))"
      ],
      "metadata": {
        "colab": {
          "base_uri": "https://localhost:8080/"
        },
        "id": "ejib8xOJWgQK",
        "outputId": "f8bc6b68-2d72-473e-8441-1bcebddadb5b"
      },
      "execution_count": null,
      "outputs": [
        {
          "output_type": "stream",
          "name": "stdout",
          "text": [
            "f0: true value = 1.230, your value = 1.230\n",
            "h1: true value = 0.942, your value = 0.942\n",
            "f1: true value = 1.623, your value = 1.623\n",
            "h2: true value = 5.068, your value = 5.068\n",
            "f2: true value = 7.137, your value = 7.137\n",
            "h3: true value = 0.657, your value = 0.657\n",
            "f3: true value = 2.372, your value = 2.372\n",
            "l_i original = 0.139, l_i from forward pass = 0.139\n"
          ]
        }
      ]
    },
    {
      "cell_type": "markdown",
      "source": [
        "# Backward Pass"
      ],
      "metadata": {
        "id": "bwJ7my7IXOLd"
      }
    },
    {
      "cell_type": "code",
      "source": [
        "dldf3 = 2 * (f3 - y)\n",
        "dldh3 = omega3 * dldf3\n",
        "dldf2 = dldh3 * (-np.sin(f2))\n",
        "dldh2 = omega2 * dldf2\n",
        "dldf1 = dldh2 * (np.exp(f1))\n",
        "dldh1 = omega1 * dldf1\n",
        "dldf0 = dldh1 * (np.cos(f0))"
      ],
      "metadata": {
        "id": "QE1GTgT4XPB7"
      },
      "execution_count": null,
      "outputs": []
    },
    {
      "cell_type": "code",
      "source": [
        "print(\"dldf3: true value = %3.3f, your value = %3.3f\"%(0.745, dldf3))\n",
        "print(\"dldh3: true value = %3.3f, your value = %3.3f\"%(2.234, dldh3))\n",
        "print(\"dldf2: true value = %3.3f, your value = %3.3f\"%(-1.683, dldf2))\n",
        "print(\"dldh2: true value = %3.3f, your value = %3.3f\"%(-3.366, dldh2))\n",
        "print(\"dldf1: true value = %3.3f, your value = %3.3f\"%(-17.060, dldf1))\n",
        "print(\"dldh1: true value = %3.3f, your value = %3.3f\"%(6.824, dldh1))\n",
        "print(\"dldf0: true value = %3.3f, your value = %3.3f\"%(2.281, dldf0))"
      ],
      "metadata": {
        "colab": {
          "base_uri": "https://localhost:8080/"
        },
        "id": "nAJbP8jIYY2K",
        "outputId": "fecee76a-1a1b-4009-98af-891935867622"
      },
      "execution_count": null,
      "outputs": [
        {
          "output_type": "stream",
          "name": "stdout",
          "text": [
            "dldf3: true value = 0.745, your value = 0.745\n",
            "dldh3: true value = 2.234, your value = 2.234\n",
            "dldf2: true value = -1.683, your value = -1.683\n",
            "dldh2: true value = -3.366, your value = -3.366\n",
            "dldf1: true value = -17.060, your value = -17.060\n",
            "dldh1: true value = 6.824, your value = 6.824\n",
            "dldf0: true value = 2.281, your value = 2.281\n"
          ]
        }
      ]
    },
    {
      "cell_type": "code",
      "source": [
        "dldbeta3 = dldf3\n",
        "dldomega3 = dldf3 * h3\n",
        "dldbeta2 = dldf2\n",
        "dldomega2 = dldf2 * h2\n",
        "dldbeta1 = dldf1\n",
        "dldomega1 = dldf1 * h1\n",
        "dldbeta0 = dldf0\n",
        "dldomega0 = dldf0 * x"
      ],
      "metadata": {
        "id": "Sy8NCUllYfoj"
      },
      "execution_count": null,
      "outputs": []
    },
    {
      "cell_type": "code",
      "source": [
        "print('dldbeta3: Your value = %3.3f, True value = %3.3f'%(dldbeta3, 0.745))\n",
        "print('dldomega3: Your value = %3.3f, True value = %3.3f'%(dldomega3, 0.489))\n",
        "print('dldbeta2: Your value = %3.3f, True value = %3.3f'%(dldbeta2, -1.683))\n",
        "print('dldomega2: Your value = %3.3f, True value = %3.3f'%(dldomega2, -8.530))\n",
        "print('dldbeta1: Your value = %3.3f, True value = %3.3f'%(dldbeta1, -17.060))\n",
        "print('dldomega1: Your value = %3.3f, True value = %3.3f'%(dldomega1, -16.079))\n",
        "print('dldbeta0: Your value = %3.3f, True value = %3.3f'%(dldbeta0, 2.281))\n",
        "print('dldomega0: Your value = %3.3f, Function value = %3.3f, Finite difference value = %3.3f'%(dldomega0, dldomega0_func, dldomega0_fd))\n"
      ],
      "metadata": {
        "id": "XWPwhBwsZnGi",
        "outputId": "be2eca89-3301-4d92-e0dd-05c0856c4514",
        "colab": {
          "base_uri": "https://localhost:8080/"
        }
      },
      "execution_count": null,
      "outputs": [
        {
          "output_type": "stream",
          "name": "stdout",
          "text": [
            "dldbeta3: Your value = 0.745, True value = 0.745\n",
            "dldomega3: Your value = 0.489, True value = 0.489\n",
            "dldbeta2: Your value = -1.683, True value = -1.683\n",
            "dldomega2: Your value = -8.530, True value = -8.530\n",
            "dldbeta1: Your value = -17.060, True value = -17.060\n",
            "dldomega1: Your value = -16.079, True value = -16.079\n",
            "dldbeta0: Your value = 2.281, True value = 2.281\n",
            "dldomega0: Your value = 5.246, Function value = 5.246, Finite difference value = 5.246\n"
          ]
        }
      ]
    }
  ]
}