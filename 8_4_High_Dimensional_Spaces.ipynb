{
  "nbformat": 4,
  "nbformat_minor": 0,
  "metadata": {
    "colab": {
      "provenance": [],
      "authorship_tag": "ABX9TyOrro6Eg3pi2yVo3G+1OJ7Z",
      "include_colab_link": true
    },
    "kernelspec": {
      "name": "python3",
      "display_name": "Python 3"
    },
    "language_info": {
      "name": "python"
    }
  },
  "cells": [
    {
      "cell_type": "markdown",
      "metadata": {
        "id": "view-in-github",
        "colab_type": "text"
      },
      "source": [
        "<a href=\"https://colab.research.google.com/github/djdumpling/Machine-Learning-Prince-/blob/main/8_4_High_Dimensional_Spaces.ipynb\" target=\"_parent\"><img src=\"https://colab.research.google.com/assets/colab-badge.svg\" alt=\"Open In Colab\"/></a>"
      ]
    },
    {
      "cell_type": "code",
      "execution_count": null,
      "metadata": {
        "id": "4SFg1IrkqQco"
      },
      "outputs": [],
      "source": [
        "import numpy as np\n",
        "import matplotlib.pyplot as plt\n",
        "import scipy.special as sci"
      ]
    },
    {
      "cell_type": "code",
      "source": [
        "np.random.seed(0)\n",
        "n_data = 1000\n",
        "n_dim = 2\n",
        "x_2D = np.random.normal(size=(n_dim, n_data))\n",
        "n_dim = 100\n",
        "x_100D = np.random.normal(size=(n_dim, n_data))\n",
        "n_dim = 1000\n",
        "x_1000D = np.random.normal(size=(n_dim, n_data))"
      ],
      "metadata": {
        "id": "YQZ1JEZ9qzcl"
      },
      "execution_count": null,
      "outputs": []
    },
    {
      "cell_type": "code",
      "source": [
        "x_2D"
      ],
      "metadata": {
        "colab": {
          "base_uri": "https://localhost:8080/"
        },
        "id": "bBBdB04JsXF2",
        "outputId": "7655136f-5f2e-40cd-bec4-e7680917403f"
      },
      "execution_count": null,
      "outputs": [
        {
          "output_type": "execute_result",
          "data": {
            "text/plain": [
              "array([[ 1.76405235,  0.40015721,  0.97873798, ...,  0.0941923 ,\n",
              "        -1.14761094, -0.35811408],\n",
              "       [ 0.55596268,  0.89247389, -0.42231482, ...,  0.15843385,\n",
              "        -1.14190142, -1.31097037]])"
            ]
          },
          "metadata": {},
          "execution_count": 18
        }
      ]
    },
    {
      "cell_type": "code",
      "source": [
        "def distance_ratio(x):\n",
        "  smallest_dist = np.sum((x[:, 0]-x[:, 1]) ** 2)\n",
        "  largest_dist = np.sum((x[:, 0]-x[:, 1]) ** 2)\n",
        "\n",
        "  for i in range(0,n_data-1):\n",
        "    for j in range(i+1, n_data):\n",
        "      sum = 0.0\n",
        "      dist = np.sum((x[:, i]-x[:, j]) ** 2)\n",
        "      if sum > largest_dist:\n",
        "        largest_dist = dist\n",
        "      if sum < smallest_dist:\n",
        "        smallest_dist = dist\n",
        "\n",
        "  dist_ratio = np.sqrt(largest_dist / smallest_dist)\n",
        "  return dist_ratio"
      ],
      "metadata": {
        "id": "x7e0n1mUrIFl"
      },
      "execution_count": null,
      "outputs": []
    },
    {
      "cell_type": "code",
      "source": [
        "print('Ratio of largest to smallest distance 2D: %3.3f'%(distance_ratio(x_2D))) #1.740\n",
        "print('Ratio of largest to smallest distance 100D: %3.3f'%(distance_ratio(x_100D))) #0.990\n",
        "print('Ratio of largest to smallest distance 1000D: %3.3f'%(distance_ratio(x_1000D))) #1.006"
      ],
      "metadata": {
        "colab": {
          "base_uri": "https://localhost:8080/"
        },
        "id": "uEW9_W8isQ7W",
        "outputId": "cc767884-ff14-40dc-ca94-7e7320ffe68f"
      },
      "execution_count": null,
      "outputs": [
        {
          "output_type": "stream",
          "name": "stdout",
          "text": [
            "Ratio of largest to smallest distance 2D: 1.740\n",
            "Ratio of largest to smallest distance 100D: 0.990\n",
            "Ratio of largest to smallest distance 1000D: 1.006\n"
          ]
        }
      ]
    },
    {
      "cell_type": "markdown",
      "source": [
        "# Volume of a hypersphere"
      ],
      "metadata": {
        "id": "dl0-N6B30UQq"
      }
    },
    {
      "cell_type": "code",
      "source": [
        "def volume_of_hypersphere(diameter, dimensions):\n",
        "  pi = np.pi\n",
        "  volume = np.power(diameter/2, dimensions) * np.power(pi, dimensions/2)/(sci.gamma(dimensions/2 + 1))\n",
        "  return volume"
      ],
      "metadata": {
        "id": "bRKfuZeG0Wo6"
      },
      "execution_count": null,
      "outputs": []
    },
    {
      "cell_type": "code",
      "source": [
        "diameter = 1.0\n",
        "for c_dim in range(1,11):\n",
        "  print(\"Volume of unit diameter hypersphere in %d dimensions is %3.3f\"%(c_dim, volume_of_hypersphere(diameter, c_dim)))"
      ],
      "metadata": {
        "colab": {
          "base_uri": "https://localhost:8080/"
        },
        "id": "alh7zWyC1Is6",
        "outputId": "9ad309af-897f-48ab-d465-5262479fcdd6"
      },
      "execution_count": null,
      "outputs": [
        {
          "output_type": "stream",
          "name": "stdout",
          "text": [
            "Volume of unit diameter hypersphere in 1 dimensions is 1.000\n",
            "Volume of unit diameter hypersphere in 2 dimensions is 0.785\n",
            "Volume of unit diameter hypersphere in 3 dimensions is 0.524\n",
            "Volume of unit diameter hypersphere in 4 dimensions is 0.308\n",
            "Volume of unit diameter hypersphere in 5 dimensions is 0.164\n",
            "Volume of unit diameter hypersphere in 6 dimensions is 0.081\n",
            "Volume of unit diameter hypersphere in 7 dimensions is 0.037\n",
            "Volume of unit diameter hypersphere in 8 dimensions is 0.016\n",
            "Volume of unit diameter hypersphere in 9 dimensions is 0.006\n",
            "Volume of unit diameter hypersphere in 10 dimensions is 0.002\n"
          ]
        }
      ]
    },
    {
      "cell_type": "markdown",
      "source": [
        "# Proportion of hypersphere in outer shell"
      ],
      "metadata": {
        "id": "PJqw16_01XZQ"
      }
    },
    {
      "cell_type": "code",
      "source": [
        "def get_prop_of_volume_in_outer_1_percent(dimension):\n",
        "  proportion = 1 - volume_of_hypersphere(0.99 * diameter, dimension)/volume_of_hypersphere(diameter, dimension)\n",
        "  return proportion"
      ],
      "metadata": {
        "id": "--gRze2B1ayN"
      },
      "execution_count": null,
      "outputs": []
    },
    {
      "cell_type": "code",
      "source": [
        "for c_dim in [1,2,10,20,50,100,150,200,250,300]:\n",
        "  print('Proportion of volume in outer 1 percent of radius in %d dimensions = %3.3f'%(c_dim, get_prop_of_volume_in_outer_1_percent(c_dim)))"
      ],
      "metadata": {
        "colab": {
          "base_uri": "https://localhost:8080/"
        },
        "id": "cUCNtJIN17hV",
        "outputId": "2d271135-72d0-46da-fea6-f01cb65ffa79"
      },
      "execution_count": null,
      "outputs": [
        {
          "output_type": "stream",
          "name": "stdout",
          "text": [
            "Proportion of volume in outer 1 percent of radius in 1 dimensions = 0.010\n",
            "Proportion of volume in outer 1 percent of radius in 2 dimensions = 0.020\n",
            "Proportion of volume in outer 1 percent of radius in 10 dimensions = 0.096\n",
            "Proportion of volume in outer 1 percent of radius in 20 dimensions = 0.182\n",
            "Proportion of volume in outer 1 percent of radius in 50 dimensions = 0.395\n",
            "Proportion of volume in outer 1 percent of radius in 100 dimensions = 0.634\n",
            "Proportion of volume in outer 1 percent of radius in 150 dimensions = 0.779\n",
            "Proportion of volume in outer 1 percent of radius in 200 dimensions = 0.866\n",
            "Proportion of volume in outer 1 percent of radius in 250 dimensions = 0.919\n",
            "Proportion of volume in outer 1 percent of radius in 300 dimensions = 0.951\n"
          ]
        }
      ]
    }
  ]
}