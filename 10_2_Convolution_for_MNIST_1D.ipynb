{
  "nbformat": 4,
  "nbformat_minor": 0,
  "metadata": {
    "colab": {
      "provenance": [],
      "authorship_tag": "ABX9TyMEyCFAS1U7uSXYe9WALoyK",
      "include_colab_link": true
    },
    "kernelspec": {
      "name": "python3",
      "display_name": "Python 3"
    },
    "language_info": {
      "name": "python"
    }
  },
  "cells": [
    {
      "cell_type": "markdown",
      "metadata": {
        "id": "view-in-github",
        "colab_type": "text"
      },
      "source": [
        "<a href=\"https://colab.research.google.com/github/djdumpling/Machine-Learning-Prince-/blob/main/10_2_Convolution_for_MNIST_1D.ipynb\" target=\"_parent\"><img src=\"https://colab.research.google.com/assets/colab-badge.svg\" alt=\"Open In Colab\"/></a>"
      ]
    },
    {
      "cell_type": "code",
      "execution_count": null,
      "metadata": {
        "id": "UZoTtvvq1FyG",
        "colab": {
          "base_uri": "https://localhost:8080/"
        },
        "outputId": "e5e47db5-da8a-4775-f026-3c7f37888f35"
      },
      "outputs": [
        {
          "output_type": "stream",
          "name": "stdout",
          "text": [
            "Collecting git+https://github.com/greydanus/mnist1d\n",
            "  Cloning https://github.com/greydanus/mnist1d to /tmp/pip-req-build-_pfjp2jm\n",
            "  Running command git clone --filter=blob:none --quiet https://github.com/greydanus/mnist1d /tmp/pip-req-build-_pfjp2jm\n",
            "  Resolved https://github.com/greydanus/mnist1d to commit 350929d12f4c9a4b7355e0c96604e41b9239bdb4\n",
            "  Installing build dependencies ... \u001b[?25l\u001b[?25hdone\n",
            "  Getting requirements to build wheel ... \u001b[?25l\u001b[?25hdone\n",
            "  Preparing metadata (pyproject.toml) ... \u001b[?25l\u001b[?25hdone\n",
            "Requirement already satisfied: requests in /usr/local/lib/python3.10/dist-packages (from mnist1d==0.0.2.post9) (2.31.0)\n",
            "Requirement already satisfied: numpy in /usr/local/lib/python3.10/dist-packages (from mnist1d==0.0.2.post9) (1.25.2)\n",
            "Requirement already satisfied: matplotlib in /usr/local/lib/python3.10/dist-packages (from mnist1d==0.0.2.post9) (3.7.1)\n",
            "Requirement already satisfied: scipy in /usr/local/lib/python3.10/dist-packages (from mnist1d==0.0.2.post9) (1.13.1)\n",
            "Requirement already satisfied: contourpy>=1.0.1 in /usr/local/lib/python3.10/dist-packages (from matplotlib->mnist1d==0.0.2.post9) (1.2.1)\n",
            "Requirement already satisfied: cycler>=0.10 in /usr/local/lib/python3.10/dist-packages (from matplotlib->mnist1d==0.0.2.post9) (0.12.1)\n",
            "Requirement already satisfied: fonttools>=4.22.0 in /usr/local/lib/python3.10/dist-packages (from matplotlib->mnist1d==0.0.2.post9) (4.53.1)\n",
            "Requirement already satisfied: kiwisolver>=1.0.1 in /usr/local/lib/python3.10/dist-packages (from matplotlib->mnist1d==0.0.2.post9) (1.4.5)\n",
            "Requirement already satisfied: packaging>=20.0 in /usr/local/lib/python3.10/dist-packages (from matplotlib->mnist1d==0.0.2.post9) (24.1)\n",
            "Requirement already satisfied: pillow>=6.2.0 in /usr/local/lib/python3.10/dist-packages (from matplotlib->mnist1d==0.0.2.post9) (9.4.0)\n",
            "Requirement already satisfied: pyparsing>=2.3.1 in /usr/local/lib/python3.10/dist-packages (from matplotlib->mnist1d==0.0.2.post9) (3.1.2)\n",
            "Requirement already satisfied: python-dateutil>=2.7 in /usr/local/lib/python3.10/dist-packages (from matplotlib->mnist1d==0.0.2.post9) (2.8.2)\n",
            "Requirement already satisfied: charset-normalizer<4,>=2 in /usr/local/lib/python3.10/dist-packages (from requests->mnist1d==0.0.2.post9) (3.3.2)\n",
            "Requirement already satisfied: idna<4,>=2.5 in /usr/local/lib/python3.10/dist-packages (from requests->mnist1d==0.0.2.post9) (3.7)\n",
            "Requirement already satisfied: urllib3<3,>=1.21.1 in /usr/local/lib/python3.10/dist-packages (from requests->mnist1d==0.0.2.post9) (2.0.7)\n",
            "Requirement already satisfied: certifi>=2017.4.17 in /usr/local/lib/python3.10/dist-packages (from requests->mnist1d==0.0.2.post9) (2024.7.4)\n",
            "Requirement already satisfied: six>=1.5 in /usr/local/lib/python3.10/dist-packages (from python-dateutil>=2.7->matplotlib->mnist1d==0.0.2.post9) (1.16.0)\n",
            "Building wheels for collected packages: mnist1d\n",
            "  Building wheel for mnist1d (pyproject.toml) ... \u001b[?25l\u001b[?25hdone\n",
            "  Created wheel for mnist1d: filename=mnist1d-0.0.2.post9-py3-none-any.whl size=14497 sha256=2830d923166b8b45ad8d92c343f37de753ab424cd466cf3c15b42998e6338c6b\n",
            "  Stored in directory: /tmp/pip-ephem-wheel-cache-a3og14eo/wheels/41/95/55/45fcf7d38cfa97e35682da6c5017d4513729131326ce935371\n",
            "Successfully built mnist1d\n",
            "Installing collected packages: mnist1d\n",
            "Successfully installed mnist1d-0.0.2.post9\n"
          ]
        }
      ],
      "source": [
        "!pip install git+https://github.com/greydanus/mnist1d\n",
        "# install the dataset from a git"
      ]
    },
    {
      "cell_type": "code",
      "source": [
        "import numpy as np # for arrays\n",
        "import os # we don't actually need this since this is for running stuff locally\n",
        "import torch, torch.nn as nn # for neural network framework\n",
        "from torch.utils.data import TensorDataset, DataLoader\n",
        "# 1) wrapping tensors\n",
        "# 2) makes data iterable via Python\n",
        "from torch.optim.lr_scheduler import StepLR # learning rate schedule\n",
        "import matplotlib.pyplot as plt #plotting\n",
        "import mnist1d #importing the data\n",
        "import random #for getting train-validation split"
      ],
      "metadata": {
        "id": "LtXWgTXQz7sj"
      },
      "execution_count": null,
      "outputs": []
    },
    {
      "cell_type": "code",
      "source": [
        "args = mnist1d.data.get_dataset_args()\n",
        "data = mnist1d.data.get_dataset(args, path='./mnist1d_date.pkl', download = False, regenerate = False)\n",
        "# not sure what these are doing\n",
        "\n",
        "# the {} is related with the stuff inside .format(), i.e. len(data['y'])\n",
        "# obv can replace y with x b.c. 1-1\n",
        "# data['x'].shape[-1] refers to the last dimension of data['x']\n",
        "print(\"Examples in training set: {}\".format(len(data['y'])))\n",
        "print(\"Examples in test set: {}\".format(len(data['y_test'])))\n",
        "print(\"Length of each example: {}\".format(data['x'].shape[-1]))"
      ],
      "metadata": {
        "colab": {
          "base_uri": "https://localhost:8080/"
        },
        "id": "RcIMLQdA0McU",
        "outputId": "3258d0b1-d325-46ce-f255-2f2c6660c4fd"
      },
      "execution_count": null,
      "outputs": [
        {
          "output_type": "stream",
          "name": "stdout",
          "text": [
            "Did or could not load data from ./mnist1d_date.pkl. Rebuilding dataset...\n",
            "Examples in training set: 4000\n",
            "Examples in test set: 1000\n",
            "Length of each example: 40\n"
          ]
        }
      ]
    },
    {
      "cell_type": "code",
      "source": [
        "train_data_x = data['x'].transpose()\n",
        "train_data_y = data['y']\n",
        "val_data_x = data['x_test'].transpose()\n",
        "val_data_y = data['y_test']"
      ],
      "metadata": {
        "id": "3mVLbRne0qX0"
      },
      "execution_count": null,
      "outputs": []
    },
    {
      "cell_type": "code",
      "source": [
        "# %'s are replaced with things since %()\n",
        "\n",
        "print(\"Train data: %d examples (columns), each of which has %d dimensions (rows)\"%((train_data_x.shape[1],train_data_x.shape[0])))\n",
        "print(\"Validation data: %d examples (columns), each of which has %d dimensions (rows)\"%((val_data_x.shape[1],val_data_x.shape[0])))"
      ],
      "metadata": {
        "colab": {
          "base_uri": "https://localhost:8080/"
        },
        "id": "Edzem4Kw01Xf",
        "outputId": "136e3f11-7a8d-4c8f-c3e4-36bd91273dd0"
      },
      "execution_count": null,
      "outputs": [
        {
          "output_type": "stream",
          "name": "stdout",
          "text": [
            "Train data: 4000 examples (columns), each of which has 40 dimensions (rows)\n",
            "Validation data: 1000 examples (columns), each of which has 40 dimensions (rows)\n"
          ]
        }
      ]
    },
    {
      "cell_type": "code",
      "source": [
        "# 40 offsets in the MNIST1D template\n",
        "D_i = 40\n",
        "# outputs corresponding to 10 digits\n",
        "D_o = 10\n",
        "\n",
        "# TODO Create a model with the following layers\n",
        "\n",
        "model = nn.Sequential(\n",
        "    nn.Conv1d(1, 15, 3, 2, padding = 'valid'),\n",
        "    # 1. Conv, (input=length 40 and 1 channel, kernel size 3, stride 2, padding=\"valid\", 15 output channels )\n",
        "    nn.ReLU(),\n",
        "    # 2. ReLU\n",
        "    nn.Conv1d(15, 15, 3, 2, padding = 'valid'),\n",
        "    # 3. Conv layer, (input=length 19 and 15 channels, kernel size 3, stride 2, padding=\"valid\", 15 output channels )\n",
        "    nn.ReLU(),\n",
        "    # 4. ReLU\n",
        "    nn.Conv1d(15, 15, 3, 2, padding = 'valid'),\n",
        "    # 5. Conv layer, (input=length 9 and 15 channels, kernel size 3, stride 2, padding=\"valid\", 15 output channels)\n",
        "    nn.ReLU(),\n",
        "    # 6. ReLU\n",
        "    nn.Flatten(),\n",
        "    # 7. Flatten (converts 4x15) to length 60\n",
        "    nn.Linear(60,10)\n",
        "    # 8. Linear layer (input size = 60, output size = 10)\n",
        ")"
      ],
      "metadata": {
        "id": "TN3g4ohe1IuJ"
      },
      "execution_count": null,
      "outputs": []
    },
    {
      "cell_type": "code",
      "source": [
        "def weights_init(layer_in):\n",
        "  if isinstance(layer_in, nn.Linear): # check if a layer is a linear layer\n",
        "    nn.init.kaiming_uniform_(layer_in.weight)\n",
        "    layer_in.bias.data.fill_(0.0)\n",
        "\n",
        "# He initalization for non-exploding or non-diminishing gradients\n",
        "# also accounts for non-linear activations (i.e. ReLU)\n",
        "# sets standard deviation to sqrt(2/n)\n",
        "# bias = 0"
      ],
      "metadata": {
        "id": "O6CoBd-F-TpP"
      },
      "execution_count": null,
      "outputs": []
    },
    {
      "cell_type": "code",
      "source": [
        "# choose cross entropy loss function (equation 5.24 in the loss notes)\n",
        "loss_function = nn.CrossEntropyLoss()\n",
        "# construct SGD optimizer and initialize learning rate and momentum\n",
        "optimizer = torch.optim.SGD(model.parameters(), lr = 0.05, momentum=0.9)\n",
        "# object that decreases learning rate by half every 20 epochs\n",
        "scheduler = StepLR(optimizer, step_size=20, gamma=0.5)\n",
        "# create 100 dummy data points and store in data loader class\n",
        "x_train = torch.tensor(train_data_x.transpose().astype('float32'))\n",
        "y_train = torch.tensor(train_data_y.astype('long')).long()\n",
        "x_val= torch.tensor(val_data_x.transpose().astype('float32'))\n",
        "y_val = torch.tensor(val_data_y.astype('long')).long()\n",
        "\n",
        "# load the data into a class that creates the batches\n",
        "data_loader = DataLoader(TensorDataset(x_train,y_train), batch_size=100, shuffle=True, worker_init_fn=np.random.seed(1))\n",
        "\n",
        "# Initialize model weights\n",
        "model.apply(weights_init)\n",
        "\n",
        "# loop over the dataset n_epoch times\n",
        "n_epoch = 100\n",
        "# store the loss and the % correct at each epoch\n",
        "losses_train = np.zeros((n_epoch))\n",
        "errors_train = np.zeros((n_epoch))\n",
        "losses_val = np.zeros((n_epoch))\n",
        "errors_val = np.zeros((n_epoch))\n",
        "\n",
        "for epoch in range(n_epoch):\n",
        "  # loop over batches\n",
        "  for i, data in enumerate(data_loader):\n",
        "    # retrieve inputs and labels for this batch\n",
        "    x_batch, y_batch = data\n",
        "    # zero the parameter gradients\n",
        "    optimizer.zero_grad()\n",
        "    # forward pass -- calculate model output\n",
        "    pred = model(x_batch[:,None,:])\n",
        "    # compute the loss\n",
        "    loss = loss_function(pred, y_batch)\n",
        "    # backward pass\n",
        "    loss.backward()\n",
        "    # SGD update\n",
        "    optimizer.step()\n",
        "\n",
        "  # Run whole dataset to get statistics -- normally wouldn't do this\n",
        "  pred_train = model(x_train[:,None,:])\n",
        "  pred_val = model(x_val[:,None,:])\n",
        "  _, predicted_train_class = torch.max(pred_train.data, 1)\n",
        "  _, predicted_val_class = torch.max(pred_val.data, 1)\n",
        "  errors_train[epoch] = 100 - 100 * (predicted_train_class == y_train).float().sum() / len(y_train)\n",
        "  errors_val[epoch]= 100 - 100 * (predicted_val_class == y_val).float().sum() / len(y_val)\n",
        "  losses_train[epoch] = loss_function(pred_train, y_train).item()\n",
        "  losses_val[epoch]= loss_function(pred_val, y_val).item()\n",
        "  print(f'Epoch {epoch:5d}, train loss {losses_train[epoch]:.6f}, train error {errors_train[epoch]:3.2f},  val loss {losses_val[epoch]:.6f}, percent error {errors_val[epoch]:3.2f}')\n",
        "\n",
        "  # tell scheduler to consider updating learning rate\n",
        "  scheduler.step()\n",
        "\n",
        "# Plot the results\n",
        "fig, ax = plt.subplots()\n",
        "ax.plot(errors_train,'r-',label='train')\n",
        "ax.plot(errors_val,'b-',label='validation')\n",
        "ax.set_ylim(0,100); ax.set_xlim(0,n_epoch)\n",
        "ax.set_xlabel('Epoch'); ax.set_ylabel('Error')\n",
        "ax.set_title('Part I: Validation Result %3.2f'%(errors_val[-1]))\n",
        "ax.legend()\n",
        "plt.show()"
      ],
      "metadata": {
        "colab": {
          "base_uri": "https://localhost:8080/",
          "height": 1000
        },
        "id": "sk9rMcRB-aQr",
        "outputId": "a4114ec1-4f11-4d7c-e645-58c62e02718e"
      },
      "execution_count": null,
      "outputs": [
        {
          "output_type": "stream",
          "name": "stdout",
          "text": [
            "Epoch     0, train loss 2.166656, train error 79.68,  val loss 2.175576, percent error 79.80\n",
            "Epoch     1, train loss 1.587433, train error 62.50,  val loss 1.610324, percent error 67.20\n",
            "Epoch     2, train loss 1.436424, train error 57.35,  val loss 1.470006, percent error 59.40\n",
            "Epoch     3, train loss 1.286371, train error 52.88,  val loss 1.303442, percent error 55.50\n",
            "Epoch     4, train loss 1.192649, train error 47.78,  val loss 1.227796, percent error 50.70\n",
            "Epoch     5, train loss 1.132849, train error 44.85,  val loss 1.175930, percent error 48.30\n",
            "Epoch     6, train loss 1.093146, train error 41.45,  val loss 1.148546, percent error 43.70\n",
            "Epoch     7, train loss 0.883463, train error 35.70,  val loss 0.935728, percent error 39.20\n",
            "Epoch     8, train loss 0.791120, train error 31.85,  val loss 0.849852, percent error 34.00\n",
            "Epoch     9, train loss 0.821131, train error 33.07,  val loss 0.904173, percent error 34.90\n",
            "Epoch    10, train loss 0.685825, train error 27.50,  val loss 0.758321, percent error 30.50\n",
            "Epoch    11, train loss 0.721352, train error 29.07,  val loss 0.809288, percent error 31.50\n",
            "Epoch    12, train loss 0.616038, train error 23.75,  val loss 0.702018, percent error 28.60\n",
            "Epoch    13, train loss 0.638179, train error 25.05,  val loss 0.734456, percent error 28.20\n",
            "Epoch    14, train loss 0.601866, train error 23.07,  val loss 0.694147, percent error 27.20\n",
            "Epoch    15, train loss 0.446837, train error 16.43,  val loss 0.552586, percent error 21.90\n",
            "Epoch    16, train loss 0.385864, train error 13.93,  val loss 0.524522, percent error 19.80\n",
            "Epoch    17, train loss 0.426533, train error 16.72,  val loss 0.563930, percent error 20.40\n",
            "Epoch    18, train loss 0.444329, train error 17.62,  val loss 0.616958, percent error 23.50\n",
            "Epoch    19, train loss 0.352282, train error 12.75,  val loss 0.462361, percent error 16.90\n",
            "Epoch    20, train loss 0.269692, train error 9.38,  val loss 0.424236, percent error 14.70\n",
            "Epoch    21, train loss 0.215149, train error 7.47,  val loss 0.364710, percent error 12.70\n",
            "Epoch    22, train loss 0.196370, train error 6.30,  val loss 0.346694, percent error 12.30\n",
            "Epoch    23, train loss 0.184900, train error 6.15,  val loss 0.353496, percent error 11.60\n",
            "Epoch    24, train loss 0.171695, train error 5.65,  val loss 0.352290, percent error 12.40\n",
            "Epoch    25, train loss 0.198809, train error 6.97,  val loss 0.374501, percent error 12.60\n",
            "Epoch    26, train loss 0.157635, train error 5.38,  val loss 0.340468, percent error 11.20\n",
            "Epoch    27, train loss 0.165427, train error 5.82,  val loss 0.351970, percent error 12.10\n",
            "Epoch    28, train loss 0.137619, train error 4.38,  val loss 0.331884, percent error 11.00\n",
            "Epoch    29, train loss 0.137013, train error 4.50,  val loss 0.333438, percent error 10.60\n",
            "Epoch    30, train loss 0.125359, train error 4.35,  val loss 0.329032, percent error 11.60\n",
            "Epoch    31, train loss 0.122158, train error 4.25,  val loss 0.344174, percent error 11.80\n",
            "Epoch    32, train loss 0.120629, train error 4.22,  val loss 0.334930, percent error 11.50\n",
            "Epoch    33, train loss 0.130449, train error 4.40,  val loss 0.354024, percent error 11.40\n",
            "Epoch    34, train loss 0.100481, train error 3.10,  val loss 0.326987, percent error 10.70\n",
            "Epoch    35, train loss 0.144603, train error 5.45,  val loss 0.366861, percent error 11.30\n",
            "Epoch    36, train loss 0.097572, train error 3.00,  val loss 0.337498, percent error 10.60\n",
            "Epoch    37, train loss 0.103723, train error 3.62,  val loss 0.351961, percent error 10.70\n",
            "Epoch    38, train loss 0.098641, train error 3.25,  val loss 0.341371, percent error 10.60\n",
            "Epoch    39, train loss 0.097063, train error 3.18,  val loss 0.363417, percent error 10.80\n",
            "Epoch    40, train loss 0.073602, train error 2.07,  val loss 0.330933, percent error 10.20\n",
            "Epoch    41, train loss 0.084171, train error 2.55,  val loss 0.347686, percent error 10.50\n",
            "Epoch    42, train loss 0.068240, train error 1.85,  val loss 0.337769, percent error 10.00\n",
            "Epoch    43, train loss 0.076085, train error 2.40,  val loss 0.345234, percent error 10.40\n",
            "Epoch    44, train loss 0.067651, train error 1.68,  val loss 0.344785, percent error 10.60\n",
            "Epoch    45, train loss 0.064544, train error 1.68,  val loss 0.345522, percent error 9.90\n",
            "Epoch    46, train loss 0.061254, train error 1.43,  val loss 0.344057, percent error 10.40\n",
            "Epoch    47, train loss 0.085151, train error 2.75,  val loss 0.373381, percent error 10.80\n",
            "Epoch    48, train loss 0.062939, train error 1.65,  val loss 0.343593, percent error 10.10\n",
            "Epoch    49, train loss 0.060995, train error 1.57,  val loss 0.336059, percent error 9.60\n",
            "Epoch    50, train loss 0.059003, train error 1.40,  val loss 0.344387, percent error 9.90\n",
            "Epoch    51, train loss 0.056008, train error 1.40,  val loss 0.341873, percent error 9.80\n",
            "Epoch    52, train loss 0.053343, train error 1.15,  val loss 0.350534, percent error 9.80\n",
            "Epoch    53, train loss 0.053279, train error 1.30,  val loss 0.350906, percent error 10.20\n",
            "Epoch    54, train loss 0.053000, train error 1.12,  val loss 0.347611, percent error 9.60\n",
            "Epoch    55, train loss 0.052191, train error 1.20,  val loss 0.364322, percent error 10.10\n",
            "Epoch    56, train loss 0.058348, train error 1.78,  val loss 0.364613, percent error 9.60\n",
            "Epoch    57, train loss 0.051881, train error 1.18,  val loss 0.364667, percent error 10.70\n",
            "Epoch    58, train loss 0.046571, train error 0.97,  val loss 0.359043, percent error 9.70\n",
            "Epoch    59, train loss 0.048756, train error 1.15,  val loss 0.361368, percent error 9.30\n",
            "Epoch    60, train loss 0.042245, train error 0.75,  val loss 0.358650, percent error 9.70\n",
            "Epoch    61, train loss 0.043200, train error 0.85,  val loss 0.361027, percent error 9.50\n",
            "Epoch    62, train loss 0.040529, train error 0.78,  val loss 0.361980, percent error 9.70\n",
            "Epoch    63, train loss 0.042381, train error 0.93,  val loss 0.363069, percent error 9.10\n",
            "Epoch    64, train loss 0.040564, train error 0.65,  val loss 0.370879, percent error 9.90\n",
            "Epoch    65, train loss 0.040026, train error 0.75,  val loss 0.368304, percent error 9.60\n",
            "Epoch    66, train loss 0.038828, train error 0.68,  val loss 0.360507, percent error 9.50\n",
            "Epoch    67, train loss 0.039691, train error 0.75,  val loss 0.368899, percent error 9.60\n",
            "Epoch    68, train loss 0.038662, train error 0.68,  val loss 0.367895, percent error 9.40\n",
            "Epoch    69, train loss 0.039866, train error 0.82,  val loss 0.370090, percent error 9.50\n",
            "Epoch    70, train loss 0.038138, train error 0.72,  val loss 0.363913, percent error 9.80\n",
            "Epoch    71, train loss 0.037585, train error 0.70,  val loss 0.369435, percent error 9.30\n",
            "Epoch    72, train loss 0.036439, train error 0.62,  val loss 0.371163, percent error 9.70\n",
            "Epoch    73, train loss 0.035833, train error 0.62,  val loss 0.372702, percent error 9.30\n",
            "Epoch    74, train loss 0.036140, train error 0.65,  val loss 0.370770, percent error 9.60\n",
            "Epoch    75, train loss 0.038174, train error 0.85,  val loss 0.376043, percent error 9.50\n",
            "Epoch    76, train loss 0.034494, train error 0.57,  val loss 0.371595, percent error 9.20\n",
            "Epoch    77, train loss 0.033857, train error 0.57,  val loss 0.373526, percent error 9.50\n",
            "Epoch    78, train loss 0.033837, train error 0.65,  val loss 0.373366, percent error 9.30\n",
            "Epoch    79, train loss 0.033827, train error 0.60,  val loss 0.376322, percent error 9.80\n",
            "Epoch    80, train loss 0.032948, train error 0.60,  val loss 0.375727, percent error 9.50\n",
            "Epoch    81, train loss 0.032933, train error 0.60,  val loss 0.375805, percent error 9.60\n",
            "Epoch    82, train loss 0.032405, train error 0.55,  val loss 0.376517, percent error 9.50\n",
            "Epoch    83, train loss 0.032335, train error 0.60,  val loss 0.375862, percent error 9.30\n",
            "Epoch    84, train loss 0.032107, train error 0.57,  val loss 0.376285, percent error 9.50\n",
            "Epoch    85, train loss 0.032577, train error 0.60,  val loss 0.379347, percent error 9.70\n",
            "Epoch    86, train loss 0.032037, train error 0.57,  val loss 0.376615, percent error 9.20\n",
            "Epoch    87, train loss 0.031724, train error 0.53,  val loss 0.377559, percent error 9.40\n",
            "Epoch    88, train loss 0.031296, train error 0.55,  val loss 0.376868, percent error 9.30\n",
            "Epoch    89, train loss 0.031317, train error 0.50,  val loss 0.381311, percent error 9.40\n",
            "Epoch    90, train loss 0.031241, train error 0.55,  val loss 0.380414, percent error 9.40\n",
            "Epoch    91, train loss 0.030872, train error 0.55,  val loss 0.380653, percent error 9.40\n",
            "Epoch    92, train loss 0.030580, train error 0.55,  val loss 0.381709, percent error 9.40\n",
            "Epoch    93, train loss 0.031078, train error 0.60,  val loss 0.382966, percent error 9.30\n",
            "Epoch    94, train loss 0.030349, train error 0.53,  val loss 0.381711, percent error 9.30\n",
            "Epoch    95, train loss 0.030406, train error 0.53,  val loss 0.381284, percent error 9.40\n",
            "Epoch    96, train loss 0.029929, train error 0.53,  val loss 0.383254, percent error 9.30\n",
            "Epoch    97, train loss 0.029808, train error 0.53,  val loss 0.383424, percent error 9.40\n",
            "Epoch    98, train loss 0.029622, train error 0.53,  val loss 0.382251, percent error 9.20\n",
            "Epoch    99, train loss 0.029682, train error 0.50,  val loss 0.384420, percent error 9.60\n"
          ]
        },
        {
          "output_type": "display_data",
          "data": {
            "text/plain": [
              "<Figure size 640x480 with 1 Axes>"
            ],
            "image/png": "[encoded data removed]"
          },
          "metadata": {}
        }
      ]
    }
  ]
}